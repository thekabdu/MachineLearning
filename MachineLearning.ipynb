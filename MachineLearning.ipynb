{
 "cells": [
  {
   "cell_type": "markdown",
   "metadata": {},
   "source": [
    "# <center>Final Exam</center>"
   ]
  },
  {
   "cell_type": "markdown",
   "metadata": {},
   "source": [
    "<font size=6><b>Question:</b> </font>\n",
    "<font size=5>What is Machine Learning? What are the types of Machine Learning do you know? Explain each of them.</font>"
   ]
  },
  {
   "cell_type": "markdown",
   "metadata": {},
   "source": [
    "Write here:\n"
   ]
  },
  {
   "cell_type": "code",
   "execution_count": 17,
   "metadata": {},
   "outputs": [
    {
     "ename": "SyntaxError",
     "evalue": "invalid syntax (<ipython-input-17-df11f20365ac>, line 1)",
     "output_type": "error",
     "traceback": [
      "\u001b[1;36m  File \u001b[1;32m\"<ipython-input-17-df11f20365ac>\"\u001b[1;36m, line \u001b[1;32m1\u001b[0m\n\u001b[1;33m    Machine learning is a method of data analysis that automates analitical model building.\u001b[0m\n\u001b[1;37m                   ^\u001b[0m\n\u001b[1;31mSyntaxError\u001b[0m\u001b[1;31m:\u001b[0m invalid syntax\n"
     ]
    }
   ],
   "source": [
    "Machine learning is a method of data analysis that automates analitical model building.\n",
    "It is a branch of artificial intelligence based on the idea that systems can learn from data, \n",
    "identify patterns and make decisions with minimal human intervention.\n",
    "\n",
    "There are three types of Machine learning: supervised learning, unsupervised learning, reinforcement learning\n",
    " \n",
    "supervised learning - have a dataset with samples and labels given a set of feature/label pairs, find a rule that predicts the label\n",
    "associated with a previously unseen input. \n",
    " \n",
    "we give the algorithm the right answers\n",
    "\n",
    "unsupervised laerning - have a dataset samples without labels given a set of feature vectors(without labels) group them into “natural \n",
    "clusters” (or create labels for groups).\n",
    "\n",
    "reinforcement learning - don`t have a dataset and instead of (input, output) we get (input, output, reward). \n",
    "The Algorithm tries to learn what action to take in order to maximize the reward. \n"
   ]
  },
  {
   "cell_type": "markdown",
   "metadata": {},
   "source": [
    "<font size=6><b>Task</b> </font>\n",
    "\n",
    "<ol>\n",
    "    <li>\n",
    "        <font size=4>Import all the necessary libraries.</font>\n",
    "    </li>\n",
    "    <p></p>\n",
    "    <li>\n",
    "        <font size=4>Explore data. Figure out the type of model to implement on the Train data. (EDA - Exploratory Data Analysis)</font>\n",
    "    </li>\n",
    "    <p></p>\n",
    "    <li>\n",
    "        <font size=4>Train the model. Use Train set for traing and validation of your model. (accuracy score)</font>\n",
    "    </li>\n",
    "    <p></p>\n",
    "    <li>\n",
    "        <font size=4>Use your trained model to do the prediciton on the Test set. Save the results to an array.</font>\n",
    "    </li>\n",
    "</ol>"
   ]
  },
  {
   "cell_type": "code",
   "execution_count": 23,
   "metadata": {},
   "outputs": [],
   "source": [
    "# Write here\n",
    "import numpy as np\n",
    "import pandas as pd\n",
    "import seaborn as sns\n",
    "import sklearn\n",
    "from sklearn.model_selection import train_test_split \n",
    "from sklearn.linear_model import LinearRegression\n",
    "from sklearn.metrics import accuracy_score"
   ]
  },
  {
   "cell_type": "code",
   "execution_count": 24,
   "metadata": {},
   "outputs": [
    {
     "data": {
      "text/html": [
       "<div>\n",
       "<style scoped>\n",
       "    .dataframe tbody tr th:only-of-type {\n",
       "        vertical-align: middle;\n",
       "    }\n",
       "\n",
       "    .dataframe tbody tr th {\n",
       "        vertical-align: top;\n",
       "    }\n",
       "\n",
       "    .dataframe thead th {\n",
       "        text-align: right;\n",
       "    }\n",
       "</style>\n",
       "<table border=\"1\" class=\"dataframe\">\n",
       "  <thead>\n",
       "    <tr style=\"text-align: right;\">\n",
       "      <th></th>\n",
       "      <th>x1</th>\n",
       "      <th>x2</th>\n",
       "      <th>x3</th>\n",
       "      <th>x4</th>\n",
       "      <th>x5</th>\n",
       "      <th>f</th>\n",
       "    </tr>\n",
       "  </thead>\n",
       "  <tbody>\n",
       "    <tr>\n",
       "      <td>0</td>\n",
       "      <td>152</td>\n",
       "      <td>26</td>\n",
       "      <td>37</td>\n",
       "      <td>7</td>\n",
       "      <td>140</td>\n",
       "      <td>131744</td>\n",
       "    </tr>\n",
       "    <tr>\n",
       "      <td>1</td>\n",
       "      <td>296</td>\n",
       "      <td>31</td>\n",
       "      <td>30</td>\n",
       "      <td>9</td>\n",
       "      <td>65</td>\n",
       "      <td>358989</td>\n",
       "    </tr>\n",
       "    <tr>\n",
       "      <td>2</td>\n",
       "      <td>139</td>\n",
       "      <td>123</td>\n",
       "      <td>85</td>\n",
       "      <td>0</td>\n",
       "      <td>124</td>\n",
       "      <td>108315</td>\n",
       "    </tr>\n",
       "    <tr>\n",
       "      <td>3</td>\n",
       "      <td>144</td>\n",
       "      <td>21</td>\n",
       "      <td>42</td>\n",
       "      <td>7</td>\n",
       "      <td>193</td>\n",
       "      <td>157558</td>\n",
       "    </tr>\n",
       "    <tr>\n",
       "      <td>4</td>\n",
       "      <td>258</td>\n",
       "      <td>135</td>\n",
       "      <td>70</td>\n",
       "      <td>9</td>\n",
       "      <td>106</td>\n",
       "      <td>288941</td>\n",
       "    </tr>\n",
       "  </tbody>\n",
       "</table>\n",
       "</div>"
      ],
      "text/plain": [
       "    x1   x2  x3  x4   x5       f\n",
       "0  152   26  37   7  140  131744\n",
       "1  296   31  30   9   65  358989\n",
       "2  139  123  85   0  124  108315\n",
       "3  144   21  42   7  193  157558\n",
       "4  258  135  70   9  106  288941"
      ]
     },
     "execution_count": 24,
     "metadata": {},
     "output_type": "execute_result"
    }
   ],
   "source": [
    "dtrain = pd.read_csv(\"VC4ACE07_train.csv\")\n",
    "dtrain.head()"
   ]
  },
  {
   "cell_type": "code",
   "execution_count": 5,
   "metadata": {},
   "outputs": [
    {
     "data": {
      "text/plain": [
       "x1    int64\n",
       "x2    int64\n",
       "x3    int64\n",
       "x4    int64\n",
       "x5    int64\n",
       "f     int64\n",
       "dtype: object"
      ]
     },
     "execution_count": 5,
     "metadata": {},
     "output_type": "execute_result"
    }
   ],
   "source": [
    "dtrain.dtypes"
   ]
  },
  {
   "cell_type": "code",
   "execution_count": 6,
   "metadata": {
    "scrolled": true
   },
   "outputs": [],
   "source": [
    "X = dtrain[['x1', 'x2', 'x3', 'x4', 'x5']]\n",
    "y = dtrain['f']"
   ]
  },
  {
   "cell_type": "code",
   "execution_count": 25,
   "metadata": {},
   "outputs": [
    {
     "data": {
      "text/plain": [
       "LinearRegression(copy_X=True, fit_intercept=True, n_jobs=None, normalize=True)"
      ]
     },
     "execution_count": 25,
     "metadata": {},
     "output_type": "execute_result"
    }
   ],
   "source": [
    "regression = LinearRegression(normalize=True)\n",
    "regression.fit(X,y)"
   ]
  },
  {
   "cell_type": "code",
   "execution_count": 26,
   "metadata": {},
   "outputs": [
    {
     "data": {
      "text/plain": [
       "0.9411204707763399"
      ]
     },
     "execution_count": 26,
     "metadata": {},
     "output_type": "execute_result"
    }
   ],
   "source": [
    "regression.score(X,y)"
   ]
  },
  {
   "cell_type": "code",
   "execution_count": 27,
   "metadata": {},
   "outputs": [
    {
     "data": {
      "text/plain": [
       "<bound method NDFrame.head of      x1   x2  x3  x4   x5\n",
       "0   205   41  67   0  136\n",
       "1   172  120  56   4  135\n",
       "2   151   54  65   1   21\n",
       "3   202   57  13   9  158\n",
       "4   232   75   6   4  141\n",
       "5   150  119  61   0   21\n",
       "6   165  129  50   1   20\n",
       "7    50  132  89   9  110\n",
       "8   254    9  67   0   45\n",
       "9   280   31  16   9  179\n",
       "10  153  103  74   1  185\n",
       "11  146   11  64   1  131\n",
       "12  173  104  85   4   53\n",
       "13   62  126  86   0   18\n",
       "14   94  149  57   2  195\n",
       "15  239  102  66   5  109\n",
       "16  201   21  42   9  182\n",
       "17   37   68  89   8  167\n",
       "18  226   65  20   2   38\n",
       "19   92  119  93   4   78>"
      ]
     },
     "execution_count": 27,
     "metadata": {},
     "output_type": "execute_result"
    }
   ],
   "source": [
    "dtest = pd.read_csv(\"VC4ACE07_test.csv\")\n",
    "dtest.head"
   ]
  },
  {
   "cell_type": "code",
   "execution_count": 21,
   "metadata": {},
   "outputs": [],
   "source": [
    "prediction = regression.predict(dtest)"
   ]
  },
  {
   "cell_type": "code",
   "execution_count": 22,
   "metadata": {},
   "outputs": [
    {
     "name": "stdout",
     "output_type": "stream",
     "text": [
      "prediction:  [222478.06052057 193059.2388547  117641.1421979  243324.50116379\n",
      " 272936.01162394 121746.97022433 143061.34458242  34342.83903578\n",
      " 247203.59521475 343419.37372935 181168.99849045 147368.12005626\n",
      " 158950.24009669   9693.86915126 120008.58047467 263192.82427656\n",
      " 242923.08940737  32769.80316954 224304.74534302  68883.51859221]\n"
     ]
    }
   ],
   "source": [
    "print('prediction: ', prediction)"
   ]
  },
  {
   "cell_type": "code",
   "execution_count": null,
   "metadata": {},
   "outputs": [],
   "source": []
  },
  {
   "cell_type": "code",
   "execution_count": null,
   "metadata": {},
   "outputs": [],
   "source": []
  }
 ],
 "metadata": {
  "kernelspec": {
   "display_name": "Python 3",
   "language": "python",
   "name": "python3"
  },
  "language_info": {
   "codemirror_mode": {
    "name": "ipython",
    "version": 3
   },
   "file_extension": ".py",
   "mimetype": "text/x-python",
   "name": "python",
   "nbconvert_exporter": "python",
   "pygments_lexer": "ipython3",
   "version": "3.7.4"
  }
 },
 "nbformat": 4,
 "nbformat_minor": 2
}
